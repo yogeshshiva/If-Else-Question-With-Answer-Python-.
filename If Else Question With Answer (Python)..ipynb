{
 "cells": [
  {
   "cell_type": "markdown",
   "id": "03323f87",
   "metadata": {},
   "source": [
    "# Question  with   Answer (If Else on Python).  \n"
   ]
  },
  {
   "cell_type": "code",
   "execution_count": null,
   "id": "405e739c",
   "metadata": {},
   "outputs": [],
   "source": [
    "Question 1) A Company decided to give bonus of 5% to employee if his/her year of service is more than 5 years.\n",
    "            Ask user for their salary and year of service and print the net bonus amount.\n",
    "            And also try to print the net salary of employee after bonus.?"
   ]
  },
  {
   "cell_type": "code",
   "execution_count": 6,
   "id": "26155be9",
   "metadata": {},
   "outputs": [
    {
     "name": "stdout",
     "output_type": "stream",
     "text": [
      "Enter your experience.7\n",
      "Enter your salary.50000\n",
      "Bonus amount = 2500.0\n",
      "Total Salary with bonus 52500.0\n"
     ]
    }
   ],
   "source": [
    "# Answer 1)\n",
    "\n",
    "exp = int(input(\"Enter your experience.\"))\n",
    "sal = int(input(\"Enter your salary.\"))\n",
    "\n",
    "if (exp>=5):\n",
    "    bonus = sal * 5/100\n",
    "    total_salary = sal + bonus  \n",
    "    print(\"Bonus amount =\",bonus)\n",
    "    print(\"Total Salary with bonus\",total_salary)\n",
    "else:\n",
    "    print(\"NO bonus.\")"
   ]
  },
  {
   "cell_type": "code",
   "execution_count": null,
   "id": "5d9e1a18",
   "metadata": {},
   "outputs": [],
   "source": [
    "Question 2) Take values of length and bredth of a rectangle from user and check if it is square or not.?\n",
    "            "
   ]
  },
  {
   "cell_type": "code",
   "execution_count": 5,
   "id": "3ef23f4d",
   "metadata": {},
   "outputs": [
    {
     "name": "stdout",
     "output_type": "stream",
     "text": [
      "enter length of rectangle.5\n",
      "enter bredth of rectangle.5\n",
      "this is square.\n"
     ]
    }
   ],
   "source": [
    "# Answer 2)\n",
    "\n",
    "length = int(input(\"enter length of rectangle.\"))\n",
    "bredth = int(input(\"enter bredth of rectangle.\"))\n",
    "\n",
    "if (length==bredth):\n",
    "    print(\"this is square.\")\n",
    "else:\n",
    "    print(\"This is not a Square.\")\n"
   ]
  },
  {
   "cell_type": "code",
   "execution_count": null,
   "id": "c11c4412",
   "metadata": {},
   "outputs": [],
   "source": [
    "Question 3)  Take three values from user and print greatest among them.?"
   ]
  },
  {
   "cell_type": "code",
   "execution_count": 8,
   "id": "1db8e645",
   "metadata": {},
   "outputs": [
    {
     "name": "stdout",
     "output_type": "stream",
     "text": [
      "Enter your first number.23\n",
      "Enter your second number.12\n",
      "Enter your thrid number.2\n",
      "num1 is greater than num2 and num3.\n"
     ]
    }
   ],
   "source": [
    "# Answer 3)\n",
    "\n",
    "num1 = int(input(\"Enter your first number.\"))\n",
    "num2 = int(input(\"Enter your second number.\"))\n",
    "num3 = int(input(\"Enter your thrid number.\"))\n",
    "\n",
    "if (num1>num2) and (num1>num3):\n",
    "    print(\"num1 is greater than num2 and num3.\")\n",
    "elif (num2>num1) and (num2>num3):\n",
    "    print(\"num2 is greater than num1 and num3.\")\n",
    "elif (num3>num1) and (num3>num2):\n",
    "    print(\"num3 is greater than num1 and num2.\")\n",
    "else:\n",
    "    print(\"Invalid Input.\")"
   ]
  },
  {
   "cell_type": "code",
   "execution_count": null,
   "id": "9bc3e934",
   "metadata": {},
   "outputs": [],
   "source": [
    "Question 4) A shop will give discount of 10% if the cost of purchased quantity is more than 10.\n",
    "            Ask user for quantity. Suppose, one unit will cost 100.\n",
    "            Judge and print total cost for user.?"
   ]
  },
  {
   "cell_type": "code",
   "execution_count": 2,
   "id": "688bc85f",
   "metadata": {},
   "outputs": [
    {
     "name": "stdout",
     "output_type": "stream",
     "text": [
      "enter your quantity.12\n",
      "enter your amount above 1000 rupees.20000\n",
      "congratulation. you have a discount for 10% of your total amount.\n",
      "Total amount without discount 20000\n",
      "Total amount after discount 18000.0\n"
     ]
    }
   ],
   "source": [
    "# Answer 4)\n",
    "\n",
    "quantity = int(input(\"enter your quantity.\"))\n",
    "amount = int(input(\"enter your amount above 1000 rupees.\"))\n",
    "\n",
    "if (quantity>=10):\n",
    "    discount = (amount * 10/100)\n",
    "    totalamount = amount - discount\n",
    "    print(\"congratulation. you have a discount for 10% of your total amount.\")\n",
    "    print(\"Total amount without discount\",amount)\n",
    "    print(\"Total amount after discount\",totalamount)\n",
    "elif (quantity<10):\n",
    "    print(\"Sorry, no discount.\")\n",
    "else:\n",
    "    print(\"Invalid input.\")"
   ]
  },
  {
   "cell_type": "code",
   "execution_count": null,
   "id": "4fceff11",
   "metadata": {},
   "outputs": [],
   "source": [
    "Question 5) A School has following rules for grading system:\n",
    "        1) Below 25 - F\n",
    "        2) 25 to 45 - E\n",
    "        3) 45 to 50 - D\n",
    "        4) 50 to 60 - C\n",
    "        5) 60 to 80 - B\n",
    "        6) Above 80 - A\n",
    "    Ask user to enter marks and print the correspoding grade.?"
   ]
  },
  {
   "cell_type": "code",
   "execution_count": 20,
   "id": "ab122929",
   "metadata": {},
   "outputs": [
    {
     "name": "stdout",
     "output_type": "stream",
     "text": [
      "enter your marks62\n",
      "Your Grade is B.\n"
     ]
    }
   ],
   "source": [
    "# Answer 5)\n",
    "\n",
    "marks = int(input(\"enter your marks\"))\n",
    "\n",
    "if (marks>=80) and (marks<=100):\n",
    "    print(\"Your Grade is A.\")\n",
    "elif (marks>=60) and (marks<=79):\n",
    "    print(\"Your Grade is B.\")\n",
    "elif (marks>=50) and (marks<=59):\n",
    "    print(\"Your Grade is C.\")\n",
    "elif (marks>=45) and (marks<=49):\n",
    "    print(\"Your Grade is D.\")\n",
    "elif (marks>=25) and (marks<=44):\n",
    "    print(\"Your Grade is E.\")\n",
    "elif (marks>=0) and (marks<=24):\n",
    "    print(\"Your Grade is F.\")\n",
    "else:\n",
    "    print(\"Invalid input.\")"
   ]
  },
  {
   "cell_type": "code",
   "execution_count": null,
   "id": "e27ffb4c",
   "metadata": {},
   "outputs": [],
   "source": [
    "Question 6) Take input of age of 3 people by user and determine oldest among them.?"
   ]
  },
  {
   "cell_type": "code",
   "execution_count": 1,
   "id": "fe57e7e9",
   "metadata": {},
   "outputs": [
    {
     "name": "stdout",
     "output_type": "stream",
     "text": [
      "Enter your first age.56\n",
      "Enter your second age.43\n",
      "Enter your third age.78\n",
      "age3 is oldest than age1 and age2.\n"
     ]
    }
   ],
   "source": [
    "# Answer 6)\n",
    "\n",
    "age1 = int(input(\"Enter your first age.\"))\n",
    "age2 = int(input(\"Enter your second age.\"))\n",
    "age3 = int(input(\"Enter your third age.\"))\n",
    "\n",
    "if (age1>age2) and (age1>age3):\n",
    "    print(\"age1 is oldest than age2 and age3.\")\n",
    "elif (age2>age1) and (age2>age3):\n",
    "    print(\"age2 is oldest than age1 and age3.\")\n",
    "elif (age3>age1) and (age3>age2):\n",
    "    print(\"age3 is oldest than age1 and age2.\")\n",
    "else:\n",
    "    print(\"invalid input\")\n"
   ]
  },
  {
   "cell_type": "code",
   "execution_count": null,
   "id": "d133cc10",
   "metadata": {},
   "outputs": [],
   "source": [
    "Question 7) Take input of age of 3 people by user and determine smallest among them.?"
   ]
  },
  {
   "cell_type": "code",
   "execution_count": 3,
   "id": "e170e5ce",
   "metadata": {},
   "outputs": [
    {
     "name": "stdout",
     "output_type": "stream",
     "text": [
      "Enter your first age.54\n",
      "Enter your second age.19\n",
      "Enter your third age.43\n",
      "age2 is smaller than age1 and age3.\n"
     ]
    }
   ],
   "source": [
    "# Answer 7\n",
    "\n",
    "age_1 = int(input(\"Enter your first age.\"))\n",
    "age_2 = int(input(\"Enter your second age.\"))\n",
    "age_3 = int(input(\"Enter your third age.\"))\n",
    "\n",
    "if (age1<age2) and (age1<age3):\n",
    "    print(\"age1 is smaller than age2 and age3.\")\n",
    "elif (age2<age1) and (age2<age3):\n",
    "    print(\"age2 is smaller than age1 and age3.\")\n",
    "elif (age3<age1) and (age3<age2):\n",
    "    print(\"age3 is smaller than age2 and age3.\")\n",
    "else:\n",
    "    print(\"Invalid input.\")"
   ]
  },
  {
   "cell_type": "code",
   "execution_count": null,
   "id": "4f410f7e",
   "metadata": {},
   "outputs": [],
   "source": [
    "Question 8) A Student will not be allowed to sit in exam if his/her attendence is less than 75%.\n",
    "            Take following input from user\n",
    "            Number of classes held\n",
    "            Number of classes attended.\n",
    "            And print\n",
    "            Percentage of class attended\n",
    "            Is student is allowed to sit in exam or not.?"
   ]
  },
  {
   "cell_type": "code",
   "execution_count": 9,
   "id": "9bcbbe63",
   "metadata": {},
   "outputs": [
    {
     "name": "stdout",
     "output_type": "stream",
     "text": [
      "Enter total no of classes held.80\n",
      "Enter total no of classes attended.65\n",
      "81.25\n",
      "you are sit in exam.\n"
     ]
    }
   ],
   "source": [
    "# Answer 8)\n",
    "\n",
    "num1 = int(input(\"Enter total no of classes held.\"))\n",
    "num2 = int(input(\"Enter total no of classes attended.\"))\n",
    "\n",
    "percentage_of_class_attend = (num2/num1)*100\n",
    "print(percentage_of_class_attend)\n",
    "\n",
    "if (percentage_of_class_attend >= 75):\n",
    "    print(\"you are sit in exam.\")\n",
    "elif (percentage_of_class <= 74):\n",
    "    print(\"you are not sit in exam.\")\n",
    "else:\n",
    "    print(\"Invalid input.\")"
   ]
  },
  {
   "cell_type": "code",
   "execution_count": null,
   "id": "d61c0c89",
   "metadata": {},
   "outputs": [],
   "source": [
    "# Question 9) Modify the above question to allow student to sit if he/she has medical cause. Ask user if \n",
    "# he/she has medical cause or not ('Y' or 'N') and print accordingly."
   ]
  },
  {
   "cell_type": "code",
   "execution_count": 3,
   "id": "27987954",
   "metadata": {},
   "outputs": [
    {
     "name": "stdout",
     "output_type": "stream",
     "text": [
      "Enter total no of classes held.70\n",
      "Enter total no of classes attended.45\n",
      "Enter Y for yes if you have medical cause otherwise N for no.Y\n",
      "you are not sit in exam.\n"
     ]
    }
   ],
   "source": [
    "# Answer 9)\n",
    "\n",
    "num1 = int(input(\"Enter total no of classes held.\"))\n",
    "num2 = int(input(\"Enter total no of classes attended.\"))\n",
    "\n",
    "medical = input(\"Enter Y for yes if you have medical cause otherwise N for no.\")\n",
    "\n",
    "percentage_of_class_attend = (num2/num1)*100\n",
    "\n",
    "if (percentage_of_class_attend >= 75):\n",
    "    print(\"you are sit in exam.\")\n",
    "elif (medical == \"yes\"):\n",
    "    print(\"you are sit in exam.\")\n",
    "elif (percentage_of_class_attend <= 74):\n",
    "    print(\"you are not sit in exam.\")\n",
    "else:\n",
    "    print(\"Invalid input.\")"
   ]
  },
  {
   "cell_type": "code",
   "execution_count": null,
   "id": "8cc2fe87",
   "metadata": {},
   "outputs": [],
   "source": [
    "# Question 10 : Modify the above code and you are allowed to sit in the exam \n",
    "#     If you will pay the fine of 2000 with 5% low attendence\n",
    "#     and above 5% you have to pay 10000 as fine to sit in the exam."
   ]
  },
  {
   "cell_type": "code",
   "execution_count": 16,
   "id": "0df1d405",
   "metadata": {},
   "outputs": [
    {
     "name": "stdout",
     "output_type": "stream",
     "text": [
      "Enter total no of classes held.100\n",
      "Enter total no of classes attended.43\n",
      "43.0\n",
      "you are fine of 10000 after that you sit in the exam.\n"
     ]
    }
   ],
   "source": [
    "# Answer 10:\n",
    "\n",
    "num1 = int(input(\"Enter total no of classes held.\"))\n",
    "num2 = int(input(\"Enter total no of classes attended.\"))\n",
    "\n",
    "percentage_of_class_attend = (num2/num1)*100\n",
    "\n",
    "if (percentage_of_class_attend >= 75):\n",
    "    print(\"you are sit in exam.\")\n",
    "elif (percentage_of_class_attend >=70) and (percentage_of_class_attend <= 74):\n",
    "    print(\"you are fine of 2000 after that you sit in the exam.\")\n",
    "elif (percentage_of_class_attend >=0) and (percentage_of_class_attend <=69):\n",
    "    print(\"you are fine of 10000 after that you sit in the exam.\")\n",
    "else:\n",
    "    print(\"Invalid input.\")"
   ]
  }
 ],
 "metadata": {
  "kernelspec": {
   "display_name": "Python 3 (ipykernel)",
   "language": "python",
   "name": "python3"
  },
  "language_info": {
   "codemirror_mode": {
    "name": "ipython",
    "version": 3
   },
   "file_extension": ".py",
   "mimetype": "text/x-python",
   "name": "python",
   "nbconvert_exporter": "python",
   "pygments_lexer": "ipython3",
   "version": "3.9.12"
  }
 },
 "nbformat": 4,
 "nbformat_minor": 5
}
